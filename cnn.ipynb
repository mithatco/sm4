{
 "cells": [
  {
   "cell_type": "code",
   "execution_count": 21,
   "metadata": {},
   "outputs": [],
   "source": [
    "import pandas as pd\n",
    "import numpy as np\n",
    "import tensorflow as tf\n",
    "from tensorflow.keras.preprocessing.text import Tokenizer\n",
    "from tensorflow.keras.preprocessing.sequence import pad_sequences\n",
    "from sklearn.model_selection import train_test_split\n",
    "from sklearn.metrics import classification_report, confusion_matrix\n",
    "\n",
    "# Load the datasets\n",
    "olid_train = pd.read_csv('olid-train-small.csv')\n",
    "olid_test = pd.read_csv('olid-test.csv')\n",
    "hasoc_train = pd.read_csv('hasoc-train.csv')\n",
    "\n",
    "# Preprocessing: Tokenize and pad the sequences\n",
    "tokenizer = Tokenizer(num_words=10000, oov_token=\"<OOV>\")\n",
    "tokenizer.fit_on_texts(olid_train['text'])\n",
    "\n",
    "max_length = 50\n",
    "padding_type='post'\n",
    "trunc_type='post'\n",
    "\n",
    "# Tokenizing OLID train and test datasets\n",
    "olid_train_sequences = tokenizer.texts_to_sequences(olid_train['text'])\n",
    "olid_train_padded = pad_sequences(olid_train_sequences, maxlen=max_length, padding=padding_type, truncating=trunc_type)\n",
    "olid_test_sequences = tokenizer.texts_to_sequences(olid_test['text'])\n",
    "olid_test_padded = pad_sequences(olid_test_sequences, maxlen=max_length, padding=padding_type, truncating=trunc_type)\n",
    "\n",
    "# Tokenizing HASOC dataset\n",
    "hasoc_train_sequences = tokenizer.texts_to_sequences(hasoc_train['text'])\n",
    "hasoc_train_padded = pad_sequences(hasoc_train_sequences, maxlen=max_length, padding=padding_type, truncating=trunc_type)\n",
    "\n",
    "# Labels\n",
    "olid_train_labels = olid_train['labels']\n",
    "olid_test_labels = olid_test['labels']\n",
    "hasoc_train_labels = hasoc_train['labels']"
   ]
  },
  {
   "cell_type": "code",
   "execution_count": 22,
   "metadata": {},
   "outputs": [
    {
     "name": "stdout",
     "output_type": "stream",
     "text": [
      "Model: \"sequential_4\"\n",
      "_________________________________________________________________\n",
      " Layer (type)                Output Shape              Param #   \n",
      "=================================================================\n",
      " embedding_4 (Embedding)     (None, 50, 128)           1280000   \n",
      "                                                                 \n",
      " conv1d_4 (Conv1D)           (None, 46, 128)           82048     \n",
      "                                                                 \n",
      " global_max_pooling1d_4 (Gl  (None, 128)               0         \n",
      " obalMaxPooling1D)                                               \n",
      "                                                                 \n",
      " dense_8 (Dense)             (None, 128)               16512     \n",
      "                                                                 \n",
      " dropout_4 (Dropout)         (None, 128)               0         \n",
      "                                                                 \n",
      " dense_9 (Dense)             (None, 1)                 129       \n",
      "                                                                 \n",
      "=================================================================\n",
      "Total params: 1378689 (5.26 MB)\n",
      "Trainable params: 1378689 (5.26 MB)\n",
      "Non-trainable params: 0 (0.00 Byte)\n",
      "_________________________________________________________________\n"
     ]
    }
   ],
   "source": [
    "# Define CNN model for text classification\n",
    "embedding_dim = 128\n",
    "\n",
    "model = tf.keras.Sequential([\n",
    "    tf.keras.layers.Embedding(10000, embedding_dim, input_length=max_length),\n",
    "    tf.keras.layers.Conv1D(128, 5, activation='relu'),\n",
    "    tf.keras.layers.GlobalMaxPooling1D(),\n",
    "    tf.keras.layers.Dense(128, activation='relu'),\n",
    "    tf.keras.layers.Dropout(0.5),\n",
    "    tf.keras.layers.Dense(1, activation='sigmoid')\n",
    "])\n",
    "\n",
    "model.compile(loss='binary_crossentropy', optimizer='adam', metrics=['accuracy'])\n",
    "model.summary()"
   ]
  },
  {
   "cell_type": "code",
   "execution_count": 23,
   "metadata": {},
   "outputs": [
    {
     "name": "stdout",
     "output_type": "stream",
     "text": [
      "Epoch 1/10\n"
     ]
    },
    {
     "name": "stderr",
     "output_type": "stream",
     "text": [
      "2024-10-04 22:34:09.765805: I tensorflow/core/grappler/optimizers/custom_graph_optimizer_registry.cc:114] Plugin optimizer for device_type GPU is enabled.\n"
     ]
    },
    {
     "name": "stdout",
     "output_type": "stream",
     "text": [
      "147/147 [==============================] - 3s 19ms/step - loss: 0.6581 - accuracy: 0.6187 - val_loss: 0.6072 - val_accuracy: 0.6721\n",
      "Epoch 2/10\n"
     ]
    },
    {
     "name": "stderr",
     "output_type": "stream",
     "text": [
      "2024-10-04 22:34:12.503643: I tensorflow/core/grappler/optimizers/custom_graph_optimizer_registry.cc:114] Plugin optimizer for device_type GPU is enabled.\n"
     ]
    },
    {
     "name": "stdout",
     "output_type": "stream",
     "text": [
      "147/147 [==============================] - 2s 10ms/step - loss: 0.4581 - accuracy: 0.7855 - val_loss: 0.5663 - val_accuracy: 0.7190\n",
      "Epoch 3/10\n",
      "147/147 [==============================] - 1s 9ms/step - loss: 0.1770 - accuracy: 0.9395 - val_loss: 0.6753 - val_accuracy: 0.7020\n",
      "Epoch 4/10\n",
      "147/147 [==============================] - 1s 8ms/step - loss: 0.0515 - accuracy: 0.9859 - val_loss: 0.8621 - val_accuracy: 0.6985\n",
      "Epoch 5/10\n",
      "147/147 [==============================] - 1s 8ms/step - loss: 0.0211 - accuracy: 0.9949 - val_loss: 0.9248 - val_accuracy: 0.7011\n",
      "Epoch 6/10\n",
      "147/147 [==============================] - 1s 8ms/step - loss: 0.0125 - accuracy: 0.9970 - val_loss: 1.0374 - val_accuracy: 0.7088\n",
      "Epoch 7/10\n",
      "147/147 [==============================] - 1s 8ms/step - loss: 0.0087 - accuracy: 0.9977 - val_loss: 1.0797 - val_accuracy: 0.6866\n",
      "Epoch 8/10\n",
      "147/147 [==============================] - 1s 9ms/step - loss: 0.0125 - accuracy: 0.9974 - val_loss: 1.1043 - val_accuracy: 0.6968\n",
      "Epoch 9/10\n",
      "147/147 [==============================] - 1s 8ms/step - loss: 0.0134 - accuracy: 0.9964 - val_loss: 1.1321 - val_accuracy: 0.6934\n",
      "Epoch 10/10\n",
      "147/147 [==============================] - 1s 8ms/step - loss: 0.0072 - accuracy: 0.9974 - val_loss: 1.1978 - val_accuracy: 0.6883\n"
     ]
    }
   ],
   "source": [
    "# # Train the CNN model on the OLID dataset\n",
    "history_olid = model.fit(olid_train_padded, olid_train_labels, epochs=10, batch_size=32, validation_split=0.1)\n",
    "\n",
    "# Train the CNN model on the HASOC dataset\n",
    "# history_hasoc = model.fit(hasoc_train_padded, hasoc_train_labels, epochs=10, batch_size=32, validation_split=0.1)"
   ]
  },
  {
   "cell_type": "code",
   "execution_count": 24,
   "metadata": {},
   "outputs": [
    {
     "name": "stdout",
     "output_type": "stream",
     "text": [
      "27/27 [==============================] - 0s 2ms/step\n",
      "              precision    recall  f1-score   support\n",
      "\n",
      "           0       0.84      0.76      0.80       620\n",
      "           1       0.50      0.62      0.56       240\n",
      "\n",
      "    accuracy                           0.72       860\n",
      "   macro avg       0.67      0.69      0.68       860\n",
      "weighted avg       0.75      0.72      0.73       860\n",
      "\n",
      "Confusion Matrix (In-Domain):\n",
      "[[473 147]\n",
      " [ 91 149]]\n"
     ]
    },
    {
     "name": "stderr",
     "output_type": "stream",
     "text": [
      "2024-10-04 22:34:24.011851: I tensorflow/core/grappler/optimizers/custom_graph_optimizer_registry.cc:114] Plugin optimizer for device_type GPU is enabled.\n"
     ]
    }
   ],
   "source": [
    "# # Evaluate the model on OLID test set (In-domain)\n",
    "olid_pred = (model.predict(olid_test_padded) > 0.5).astype(int)\n",
    "print(classification_report(olid_test_labels, olid_pred))\n",
    "print(\"Confusion Matrix (In-Domain):\")\n",
    "print(confusion_matrix(olid_test_labels, olid_pred))"
   ]
  },
  {
   "cell_type": "code",
   "execution_count": 25,
   "metadata": {},
   "outputs": [],
   "source": [
    "# Evaluate the model on OLID test set after training on HASOC dataset (Cross-domain)\n",
    "# olid_pred_cross = (model.predict(olid_test_padded) > 0.5).astype(int)\n",
    "# print(classification_report(olid_test_labels, olid_pred_cross))\n",
    "# print(\"Confusion Matrix (Cross-Domain):\")\n",
    "# print(confusion_matrix(olid_test_labels, olid_pred_cross))"
   ]
  }
 ],
 "metadata": {
  "kernelspec": {
   "display_name": "Python 3",
   "language": "python",
   "name": "python3"
  },
  "language_info": {
   "codemirror_mode": {
    "name": "ipython",
    "version": 3
   },
   "file_extension": ".py",
   "mimetype": "text/x-python",
   "name": "python",
   "nbconvert_exporter": "python",
   "pygments_lexer": "ipython3",
   "version": "3.8.19"
  }
 },
 "nbformat": 4,
 "nbformat_minor": 2
}
